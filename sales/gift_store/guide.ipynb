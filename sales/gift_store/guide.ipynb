{
 "cells": [
  {
   "cell_type": "markdown",
   "source": [
    "https://www.mktr.ai/applications-and-methods-in-data-science-customer-segmentation/"
   ],
   "metadata": {
    "collapsed": false,
    "pycharm": {
     "name": "#%% md\n"
    }
   }
  },
  {
   "cell_type": "code",
   "execution_count": 2,
   "metadata": {},
   "outputs": [],
   "source": [
    "import os"
   ]
  },
  {
   "cell_type": "code",
   "execution_count": 3,
   "metadata": {
    "pycharm": {
     "is_executing": false,
     "name": "#%%\n"
    }
   },
   "outputs": [
    {
     "data": {
      "text/plain": "  InvoiceNo StockCode                          Description  Quantity  \\\n0    536365    85123A   WHITE HANGING HEART T-LIGHT HOLDER         6   \n1    536365     71053                  WHITE METAL LANTERN         6   \n2    536365    84406B       CREAM CUPID HEARTS COAT HANGER         8   \n3    536365    84029G  KNITTED UNION FLAG HOT WATER BOTTLE         6   \n4    536365    84029E       RED WOOLLY HOTTIE WHITE HEART.         6   \n\n    InvoiceDate  UnitPrice  CustomerID         Country  \n0  1/12/10 8:26       2.55     17850.0  United Kingdom  \n1  1/12/10 8:26       3.39     17850.0  United Kingdom  \n2  1/12/10 8:26       2.75     17850.0  United Kingdom  \n3  1/12/10 8:26       3.39     17850.0  United Kingdom  \n4  1/12/10 8:26       3.39     17850.0  United Kingdom  ",
      "text/html": "<div>\n<style scoped>\n    .dataframe tbody tr th:only-of-type {\n        vertical-align: middle;\n    }\n\n    .dataframe tbody tr th {\n        vertical-align: top;\n    }\n\n    .dataframe thead th {\n        text-align: right;\n    }\n</style>\n<table border=\"1\" class=\"dataframe\">\n  <thead>\n    <tr style=\"text-align: right;\">\n      <th></th>\n      <th>InvoiceNo</th>\n      <th>StockCode</th>\n      <th>Description</th>\n      <th>Quantity</th>\n      <th>InvoiceDate</th>\n      <th>UnitPrice</th>\n      <th>CustomerID</th>\n      <th>Country</th>\n    </tr>\n  </thead>\n  <tbody>\n    <tr>\n      <th>0</th>\n      <td>536365</td>\n      <td>85123A</td>\n      <td>WHITE HANGING HEART T-LIGHT HOLDER</td>\n      <td>6</td>\n      <td>1/12/10 8:26</td>\n      <td>2.55</td>\n      <td>17850.0</td>\n      <td>United Kingdom</td>\n    </tr>\n    <tr>\n      <th>1</th>\n      <td>536365</td>\n      <td>71053</td>\n      <td>WHITE METAL LANTERN</td>\n      <td>6</td>\n      <td>1/12/10 8:26</td>\n      <td>3.39</td>\n      <td>17850.0</td>\n      <td>United Kingdom</td>\n    </tr>\n    <tr>\n      <th>2</th>\n      <td>536365</td>\n      <td>84406B</td>\n      <td>CREAM CUPID HEARTS COAT HANGER</td>\n      <td>8</td>\n      <td>1/12/10 8:26</td>\n      <td>2.75</td>\n      <td>17850.0</td>\n      <td>United Kingdom</td>\n    </tr>\n    <tr>\n      <th>3</th>\n      <td>536365</td>\n      <td>84029G</td>\n      <td>KNITTED UNION FLAG HOT WATER BOTTLE</td>\n      <td>6</td>\n      <td>1/12/10 8:26</td>\n      <td>3.39</td>\n      <td>17850.0</td>\n      <td>United Kingdom</td>\n    </tr>\n    <tr>\n      <th>4</th>\n      <td>536365</td>\n      <td>84029E</td>\n      <td>RED WOOLLY HOTTIE WHITE HEART.</td>\n      <td>6</td>\n      <td>1/12/10 8:26</td>\n      <td>3.39</td>\n      <td>17850.0</td>\n      <td>United Kingdom</td>\n    </tr>\n  </tbody>\n</table>\n</div>"
     },
     "metadata": {},
     "output_type": "execute_result",
     "execution_count": 3
    }
   ],
   "source": [
    "import numpy as np\n",
    "import matplotlib.pyplot as plt \n",
    "%matplotlib inline  \n",
    "import pandas as pd\n",
    "from sklearn.cluster import KMeans\n",
    "import datetime\n",
    "import warnings\n",
    "warnings.filterwarnings('ignore')\n",
    "\n",
    "df = pd.read_csv(\"./Sales_Data/data.csv\")\n",
    "#df2 = pd.read_excel(url)\n",
    "df.head()"
   ]
  },
  {
   "cell_type": "code",
   "execution_count": 3,
   "metadata": {
    "pycharm": {
     "is_executing": false,
     "name": "#%%\n"
    }
   },
   "outputs": [],
   "source": [
    "# df.to_csv (\"./Sales_Data/data.csv\", index = False, header=True)\n"
   ]
  },
  {
   "cell_type": "markdown",
   "metadata": {
    "pycharm": {
     "name": "#%% md\n"
    }
   },
   "source": [
    "## Data Cleanup\n",
    "\n",
    "Below, we are going to remove data that isn’t helpful, is missing, or may cause issues later."
   ]
  },
  {
   "cell_type": "code",
   "execution_count": 4,
   "outputs": [
    {
     "name": "stdout",
     "text": [
      "<class 'pandas.core.frame.DataFrame'>\n",
      "RangeIndex: 541909 entries, 0 to 541908\n",
      "Data columns (total 8 columns):\n",
      "InvoiceNo      541909 non-null object\n",
      "StockCode      541909 non-null object\n",
      "Description    540455 non-null object\n",
      "Quantity       541909 non-null int64\n",
      "InvoiceDate    541909 non-null object\n",
      "UnitPrice      541909 non-null float64\n",
      "CustomerID     406829 non-null float64\n",
      "Country        541909 non-null object\n",
      "dtypes: float64(2), int64(1), object(5)\n",
      "memory usage: 33.1+ MB\n",
      "None\n",
      "<class 'pandas.core.frame.DataFrame'>\n",
      "Int64Index: 531285 entries, 0 to 541908\n",
      "Data columns (total 8 columns):\n",
      "InvoiceNo      531285 non-null object\n",
      "StockCode      531285 non-null object\n",
      "Description    530693 non-null object\n",
      "Quantity       531285 non-null int64\n",
      "InvoiceDate    531285 non-null object\n",
      "UnitPrice      531285 non-null float64\n",
      "CustomerID     397924 non-null float64\n",
      "Country        531285 non-null object\n",
      "dtypes: float64(2), int64(1), object(5)\n",
      "memory usage: 36.5+ MB\n",
      "None\n"
     ],
     "output_type": "stream"
    }
   ],
   "source": [
    "# Drop cancelled orders\n",
    "df1 = df.loc[df['Quantity'] > 0]\n",
    "print(df.info())\n",
    "\n",
    "df2 = df[df['Quantity'] > 0]\n",
    "print(df2.info())"
   ],
   "metadata": {
    "collapsed": false,
    "pycharm": {
     "name": "#%%\n",
     "is_executing": false
    }
   }
  },
  {
   "cell_type": "code",
   "execution_count": 5,
   "outputs": [
    {
     "name": "stdout",
     "text": [
      "True\n",
      "True\n"
     ],
     "output_type": "stream"
    }
   ],
   "source": [
    "print(all(df1 == df2))\n",
    "\n",
    "print(df1.equals(df2))"
   ],
   "metadata": {
    "collapsed": false,
    "pycharm": {
     "name": "#%%\n",
     "is_executing": false
    }
   }
  },
  {
   "cell_type": "code",
   "execution_count": 6,
   "outputs": [],
   "source": [
    "# Drop records without CustomerID\n",
    "df1 = df1[pd.notnull(df['CustomerID'])]\n",
    "\n",
    "# Drop incomplete month\n",
    "df1 = df1.loc[df['InvoiceDate'] < '2011-12-01']\n",
    "\n",
    "# Calculate total sales from the Quantity and UnitPrice\n",
    "df1['Sales'] = df1['Quantity'] * df1['UnitPrice']"
   ],
   "metadata": {
    "collapsed": false,
    "pycharm": {
     "name": "#%%\n",
     "is_executing": false
    }
   }
  },
  {
   "cell_type": "code",
   "execution_count": 50,
   "outputs": [
    {
     "data": {
      "text/plain": "  InvoiceNo StockCode                          Description  Quantity  \\\n0    536365    85123A   WHITE HANGING HEART T-LIGHT HOLDER         6   \n1    536365     71053                  WHITE METAL LANTERN         6   \n2    536365    84406B       CREAM CUPID HEARTS COAT HANGER         8   \n3    536365    84029G  KNITTED UNION FLAG HOT WATER BOTTLE         6   \n4    536365    84029E       RED WOOLLY HOTTIE WHITE HEART.         6   \n\n    InvoiceDate  UnitPrice  CustomerID         Country  Sales  \n0  1/12/10 8:26       2.55     17850.0  United Kingdom  15.30  \n1  1/12/10 8:26       3.39     17850.0  United Kingdom  20.34  \n2  1/12/10 8:26       2.75     17850.0  United Kingdom  22.00  \n3  1/12/10 8:26       3.39     17850.0  United Kingdom  20.34  \n4  1/12/10 8:26       3.39     17850.0  United Kingdom  20.34  ",
      "text/html": "<div>\n<style scoped>\n    .dataframe tbody tr th:only-of-type {\n        vertical-align: middle;\n    }\n\n    .dataframe tbody tr th {\n        vertical-align: top;\n    }\n\n    .dataframe thead th {\n        text-align: right;\n    }\n</style>\n<table border=\"1\" class=\"dataframe\">\n  <thead>\n    <tr style=\"text-align: right;\">\n      <th></th>\n      <th>InvoiceNo</th>\n      <th>StockCode</th>\n      <th>Description</th>\n      <th>Quantity</th>\n      <th>InvoiceDate</th>\n      <th>UnitPrice</th>\n      <th>CustomerID</th>\n      <th>Country</th>\n      <th>Sales</th>\n    </tr>\n  </thead>\n  <tbody>\n    <tr>\n      <th>0</th>\n      <td>536365</td>\n      <td>85123A</td>\n      <td>WHITE HANGING HEART T-LIGHT HOLDER</td>\n      <td>6</td>\n      <td>1/12/10 8:26</td>\n      <td>2.55</td>\n      <td>17850.0</td>\n      <td>United Kingdom</td>\n      <td>15.30</td>\n    </tr>\n    <tr>\n      <th>1</th>\n      <td>536365</td>\n      <td>71053</td>\n      <td>WHITE METAL LANTERN</td>\n      <td>6</td>\n      <td>1/12/10 8:26</td>\n      <td>3.39</td>\n      <td>17850.0</td>\n      <td>United Kingdom</td>\n      <td>20.34</td>\n    </tr>\n    <tr>\n      <th>2</th>\n      <td>536365</td>\n      <td>84406B</td>\n      <td>CREAM CUPID HEARTS COAT HANGER</td>\n      <td>8</td>\n      <td>1/12/10 8:26</td>\n      <td>2.75</td>\n      <td>17850.0</td>\n      <td>United Kingdom</td>\n      <td>22.00</td>\n    </tr>\n    <tr>\n      <th>3</th>\n      <td>536365</td>\n      <td>84029G</td>\n      <td>KNITTED UNION FLAG HOT WATER BOTTLE</td>\n      <td>6</td>\n      <td>1/12/10 8:26</td>\n      <td>3.39</td>\n      <td>17850.0</td>\n      <td>United Kingdom</td>\n      <td>20.34</td>\n    </tr>\n    <tr>\n      <th>4</th>\n      <td>536365</td>\n      <td>84029E</td>\n      <td>RED WOOLLY HOTTIE WHITE HEART.</td>\n      <td>6</td>\n      <td>1/12/10 8:26</td>\n      <td>3.39</td>\n      <td>17850.0</td>\n      <td>United Kingdom</td>\n      <td>20.34</td>\n    </tr>\n  </tbody>\n</table>\n</div>"
     },
     "metadata": {},
     "output_type": "execute_result",
     "execution_count": 50
    }
   ],
   "source": [
    "df1.head()\n"
   ],
   "metadata": {
    "collapsed": false,
    "pycharm": {
     "name": "#%%\n",
     "is_executing": false
    }
   }
  },
  {
   "cell_type": "markdown",
   "source": [
    "Now let’s transform the data so that each record represents a single customer’s purchase history."
   ],
   "metadata": {
    "collapsed": false,
    "pycharm": {
     "name": "#%% md\n"
    }
   }
  },
  {
   "cell_type": "code",
   "execution_count": 51,
   "outputs": [
    {
     "data": {
      "text/plain": "            TotalSales  OrderCount  AvgOrderValue\nCustomerID                                       \n12346.0       77183.60           1      77183.600\n12347.0         584.91           1        584.910\n12348.0         892.80           1        892.800\n12350.0         334.40           1        334.400\n12352.0        1767.73           5        353.546",
      "text/html": "<div>\n<style scoped>\n    .dataframe tbody tr th:only-of-type {\n        vertical-align: middle;\n    }\n\n    .dataframe tbody tr th {\n        vertical-align: top;\n    }\n\n    .dataframe thead th {\n        text-align: right;\n    }\n</style>\n<table border=\"1\" class=\"dataframe\">\n  <thead>\n    <tr style=\"text-align: right;\">\n      <th></th>\n      <th>TotalSales</th>\n      <th>OrderCount</th>\n      <th>AvgOrderValue</th>\n    </tr>\n    <tr>\n      <th>CustomerID</th>\n      <th></th>\n      <th></th>\n      <th></th>\n    </tr>\n  </thead>\n  <tbody>\n    <tr>\n      <th>12346.0</th>\n      <td>77183.60</td>\n      <td>1</td>\n      <td>77183.600</td>\n    </tr>\n    <tr>\n      <th>12347.0</th>\n      <td>584.91</td>\n      <td>1</td>\n      <td>584.910</td>\n    </tr>\n    <tr>\n      <th>12348.0</th>\n      <td>892.80</td>\n      <td>1</td>\n      <td>892.800</td>\n    </tr>\n    <tr>\n      <th>12350.0</th>\n      <td>334.40</td>\n      <td>1</td>\n      <td>334.400</td>\n    </tr>\n    <tr>\n      <th>12352.0</th>\n      <td>1767.73</td>\n      <td>5</td>\n      <td>353.546</td>\n    </tr>\n  </tbody>\n</table>\n</div>"
     },
     "metadata": {},
     "output_type": "execute_result",
     "execution_count": 51
    }
   ],
   "source": [
    "# use groupby to aggregate sales by CustomerID\n",
    "customer_df = df1.groupby('CustomerID').agg({'Sales': sum, \n",
    "                                            'InvoiceNo': lambda x: x.nunique()})\n",
    "\n",
    "# Select the columns we want to use\n",
    "customer_df.columns = ['TotalSales', 'OrderCount'] \n",
    "\n",
    "# create a new column 'AvgOrderValu'\n",
    "customer_df['AvgOrderValue'] = customer_df['TotalSales'] / customer_df['OrderCount']\n",
    "\n",
    "customer_df.head()"
   ],
   "metadata": {
    "collapsed": false,
    "pycharm": {
     "name": "#%%\n",
     "is_executing": false
    }
   }
  },
  {
   "cell_type": "markdown",
   "source": [
    "## Normalize the data\n",
    "\n",
    "Clustering algorithms like K-means are sensitive to the scales of the data used, so we’ll want to normalize the data.\n",
    "\n",
    "Below is a screenshot from part of a StackExchange answer discussing why standardization or normalization is \n",
    "necessary for data used in K-means clustering. The screenshot is linked to the StackExchange question, \n",
    "so you can click on it and read the entirety of the discussion if you’d like more information."
   ],
   "metadata": {
    "collapsed": false,
    "pycharm": {
     "name": "#%% md\n"
    }
   }
  },
  {
   "cell_type": "code",
   "execution_count": 52,
   "outputs": [
    {
     "data": {
      "text/plain": "            TotalSales  OrderCount  AvgOrderValue\nCustomerID                                       \n12346.0       1.727732   -1.731187       1.731187\n12347.0       0.252249   -1.730035       1.218627\n12348.0       0.665753   -1.728883       1.488153\n12350.0      -0.435388   -1.727732       0.334028\n12352.0       1.241663    1.269307       0.463032\n12353.0      -1.592968   -1.726580      -1.539985\n12356.0       1.393703   -0.005759       1.604487\n12358.0       0.035706   -1.725428       1.014754\n12359.0       1.535377   -0.004607       1.670140\n12360.0       1.165643   -0.003455       1.423651",
      "text/html": "<div>\n<style scoped>\n    .dataframe tbody tr th:only-of-type {\n        vertical-align: middle;\n    }\n\n    .dataframe tbody tr th {\n        vertical-align: top;\n    }\n\n    .dataframe thead th {\n        text-align: right;\n    }\n</style>\n<table border=\"1\" class=\"dataframe\">\n  <thead>\n    <tr style=\"text-align: right;\">\n      <th></th>\n      <th>TotalSales</th>\n      <th>OrderCount</th>\n      <th>AvgOrderValue</th>\n    </tr>\n    <tr>\n      <th>CustomerID</th>\n      <th></th>\n      <th></th>\n      <th></th>\n    </tr>\n  </thead>\n  <tbody>\n    <tr>\n      <th>12346.0</th>\n      <td>1.727732</td>\n      <td>-1.731187</td>\n      <td>1.731187</td>\n    </tr>\n    <tr>\n      <th>12347.0</th>\n      <td>0.252249</td>\n      <td>-1.730035</td>\n      <td>1.218627</td>\n    </tr>\n    <tr>\n      <th>12348.0</th>\n      <td>0.665753</td>\n      <td>-1.728883</td>\n      <td>1.488153</td>\n    </tr>\n    <tr>\n      <th>12350.0</th>\n      <td>-0.435388</td>\n      <td>-1.727732</td>\n      <td>0.334028</td>\n    </tr>\n    <tr>\n      <th>12352.0</th>\n      <td>1.241663</td>\n      <td>1.269307</td>\n      <td>0.463032</td>\n    </tr>\n    <tr>\n      <th>12353.0</th>\n      <td>-1.592968</td>\n      <td>-1.726580</td>\n      <td>-1.539985</td>\n    </tr>\n    <tr>\n      <th>12356.0</th>\n      <td>1.393703</td>\n      <td>-0.005759</td>\n      <td>1.604487</td>\n    </tr>\n    <tr>\n      <th>12358.0</th>\n      <td>0.035706</td>\n      <td>-1.725428</td>\n      <td>1.014754</td>\n    </tr>\n    <tr>\n      <th>12359.0</th>\n      <td>1.535377</td>\n      <td>-0.004607</td>\n      <td>1.670140</td>\n    </tr>\n    <tr>\n      <th>12360.0</th>\n      <td>1.165643</td>\n      <td>-0.003455</td>\n      <td>1.423651</td>\n    </tr>\n  </tbody>\n</table>\n</div>"
     },
     "metadata": {},
     "output_type": "execute_result",
     "execution_count": 52
    }
   ],
   "source": [
    "rank_df = customer_df.rank(method='first')\n",
    "normalized_df = (rank_df - rank_df.mean()) / rank_df.std()\n",
    "normalized_df.head(10)"
   ],
   "metadata": {
    "collapsed": false,
    "pycharm": {
     "name": "#%%\n",
     "is_executing": false
    }
   }
  },
  {
   "cell_type": "markdown",
   "source": [
    "## Select the optimal number of clusters\n",
    "\n",
    "Alright, we’re ready to run cluster analysis. But first, we need to figure out how many clusters we want to use. \n",
    "There are several approaches to selecting the number of clusters to use, but I’m going to cover two in this \n",
    "article: (1) silhouette coefficient, and (2) the elbow method.\n"
   ],
   "metadata": {
    "collapsed": false,
    "pycharm": {
     "name": "#%% md\n"
    }
   }
  },
  {
   "cell_type": "markdown",
   "source": [
    "# The Elbow Method with the Sum of Squared Errors (SSE)\n",
    "\n",
    "We will check out the kink, which will be the optimal."
   ],
   "metadata": {
    "collapsed": false,
    "pycharm": {
     "name": "#%%\nmd\n"
    }
   }
  },
  {
   "cell_type": "code",
   "source": [
    "from sklearn import cluster\n",
    "import numpy as np\n",
    "import matplotlib.pyplot as plt \n",
    "\n",
    "\n",
    "sse = []\n",
    "krange = list(range(2,11))\n",
    "\n",
    "X = normalized_df[['TotalSales','OrderCount','AvgOrderValue']].values\n",
    "for n in krange:\n",
    "    model = cluster.KMeans(n_clusters=n, random_state=3)\n",
    "    model.fit_predict(X)\n",
    "    cluster_assignments = model.labels_\n",
    "    centers = model.cluster_centers_\n",
    "    sse.append(np.sum((X - centers[cluster_assignments]) ** 2))\n",
    "\n",
    "plt.plot(krange, sse)\n",
    "plt.xlabel(\"$K$\")\n",
    "plt.ylabel(\"Sum of Squares\")\n",
    "plt.show()\n",
    "\n",
    "\"\"\"\n",
    "It is a rather smooth curve, so we will use Silhouette. \n",
    "This graph suggests number 4, let's see if it is.\n",
    "\"\"\""
   ],
   "metadata": {
    "collapsed": false,
    "pycharm": {
     "name": "#%%\n",
     "is_executing": false
    }
   },
   "execution_count": 68,
   "outputs": [
    {
     "data": {
      "text/plain": "<Figure size 432x288 with 1 Axes>",
      "image/png": "[encoded data removed]"
     },
     "metadata": {
      "needs_background": "light"
     },
     "output_type": "display_data"
    },
    {
     "data": {
      "text/plain": "\"\\nIt is a rather smooth curve, so we will use Silhouette. \\nThis graph suggests number 4, let's see if it is.\\n\""
     },
     "metadata": {},
     "output_type": "execute_result",
     "execution_count": 68
    }
   ]
  },
  {
   "cell_type": "markdown",
   "source": [
    "# Silhouette\n",
    "\n",
    "For a quick rundown on silhouette, check out the screenshot from Wikipedia below. Once again, the image is linked \n",
    "to the Wikipedia page, so if you want to know more about the topics, click on the image."
   ],
   "metadata": {
    "collapsed": false,
    "pycharm": {
     "name": "#%% md\n",
     "is_executing": false
    }
   }
  },
  {
   "cell_type": "code",
   "execution_count": 70,
   "outputs": [
    {
     "name": "stdout",
     "text": [
      "Silhouette Score for 9 Clusters: 0.4179\n",
      "Silhouette Score for 9 Clusters: 0.4230\n",
      "Silhouette Score for 9 Clusters: 0.4165\n",
      "Silhouette Score for 9 Clusters: 0.3886\n",
      "Silhouette Score for 9 Clusters: 0.3746\n",
      "Silhouette Score for 9 Clusters: 0.3834\n",
      "Silhouette Score for 9 Clusters: 0.3691\n",
      "Silhouette Score for 9 Clusters: 0.3543\n"
     ],
     "output_type": "stream"
    },
    {
     "data": {
      "text/plain": "'\\nSo 3 is the optimal .\\n\\n'"
     },
     "metadata": {},
     "output_type": "execute_result",
     "execution_count": 70
    }
   ],
   "source": [
    "# Use silhouette coefficient to determine the best number of clusters\n",
    "from sklearn.metrics import silhouette_score\n",
    "\n",
    "cluster_range = list(range(2,10))\n",
    "\n",
    "for n in cluster_range:\n",
    "    kmeans = KMeans(n_clusters=n).fit(\n",
    "        normalized_df[['TotalSales', 'OrderCount', 'AvgOrderValue']])\n",
    "    \n",
    "    silhouette_avg = silhouette_score(\n",
    "        normalized_df[['TotalSales', 'OrderCount', 'AvgOrderValue']], \n",
    "        kmeans.labels_)\n",
    "    \n",
    "    print('Silhouette Score for %i Clusters: %0.4f' % (n_cluster, silhouette_avg))\n",
    "\n",
    "\"\"\"\n",
    "So 3 is the optimal.\n",
    "\n",
    "\"\"\""
   ],
   "metadata": {
    "collapsed": false,
    "pycharm": {
     "name": "#%%\n",
     "is_executing": false
    }
   }
  },
  {
   "cell_type": "markdown",
   "source": [
    "# Interpreting Customer Segments"
   ],
   "metadata": {
    "collapsed": false,
    "pycharm": {
     "name": "#%% md\n"
    }
   }
  },
  {
   "cell_type": "code",
   "execution_count": 74,
   "outputs": [
    {
     "data": {
      "text/plain": "            TotalSales  OrderCount  AvgOrderValue  Cluster\nCustomerID                                                \n12346.0       1.727732   -1.731187       1.731187        1\n12347.0       0.252249   -1.730035       1.218627        1\n12348.0       0.665753   -1.728883       1.488153        1\n12350.0      -0.435388   -1.727732       0.334028        1\n12352.0       1.241663    1.269307       0.463032        0\n12353.0      -1.592968   -1.726580      -1.539985        2\n12356.0       1.393703   -0.005759       1.604487        0\n12358.0       0.035706   -1.725428       1.014754        1\n12359.0       1.535377   -0.004607       1.670140        0\n12360.0       1.165643   -0.003455       1.423651        0",
      "text/html": "<div>\n<style scoped>\n    .dataframe tbody tr th:only-of-type {\n        vertical-align: middle;\n    }\n\n    .dataframe tbody tr th {\n        vertical-align: top;\n    }\n\n    .dataframe thead th {\n        text-align: right;\n    }\n</style>\n<table border=\"1\" class=\"dataframe\">\n  <thead>\n    <tr style=\"text-align: right;\">\n      <th></th>\n      <th>TotalSales</th>\n      <th>OrderCount</th>\n      <th>AvgOrderValue</th>\n      <th>Cluster</th>\n    </tr>\n    <tr>\n      <th>CustomerID</th>\n      <th></th>\n      <th></th>\n      <th></th>\n      <th></th>\n    </tr>\n  </thead>\n  <tbody>\n    <tr>\n      <th>12346.0</th>\n      <td>1.727732</td>\n      <td>-1.731187</td>\n      <td>1.731187</td>\n      <td>1</td>\n    </tr>\n    <tr>\n      <th>12347.0</th>\n      <td>0.252249</td>\n      <td>-1.730035</td>\n      <td>1.218627</td>\n      <td>1</td>\n    </tr>\n    <tr>\n      <th>12348.0</th>\n      <td>0.665753</td>\n      <td>-1.728883</td>\n      <td>1.488153</td>\n      <td>1</td>\n    </tr>\n    <tr>\n      <th>12350.0</th>\n      <td>-0.435388</td>\n      <td>-1.727732</td>\n      <td>0.334028</td>\n      <td>1</td>\n    </tr>\n    <tr>\n      <th>12352.0</th>\n      <td>1.241663</td>\n      <td>1.269307</td>\n      <td>0.463032</td>\n      <td>0</td>\n    </tr>\n    <tr>\n      <th>12353.0</th>\n      <td>-1.592968</td>\n      <td>-1.726580</td>\n      <td>-1.539985</td>\n      <td>2</td>\n    </tr>\n    <tr>\n      <th>12356.0</th>\n      <td>1.393703</td>\n      <td>-0.005759</td>\n      <td>1.604487</td>\n      <td>0</td>\n    </tr>\n    <tr>\n      <th>12358.0</th>\n      <td>0.035706</td>\n      <td>-1.725428</td>\n      <td>1.014754</td>\n      <td>1</td>\n    </tr>\n    <tr>\n      <th>12359.0</th>\n      <td>1.535377</td>\n      <td>-0.004607</td>\n      <td>1.670140</td>\n      <td>0</td>\n    </tr>\n    <tr>\n      <th>12360.0</th>\n      <td>1.165643</td>\n      <td>-0.003455</td>\n      <td>1.423651</td>\n      <td>0</td>\n    </tr>\n  </tbody>\n</table>\n</div>"
     },
     "metadata": {},
     "output_type": "execute_result",
     "execution_count": 74
    }
   ],
   "source": [
    "kmeans = KMeans(n_clusters=3).fit(normalized_df[['TotalSales', 'OrderCount', 'AvgOrderValue']])\n",
    "\n",
    "three_cluster_df = normalized_df[['TotalSales', 'OrderCount', 'AvgOrderValue']].copy(deep=True)\n",
    "three_cluster_df['Cluster'] = kmeans.labels_\n",
    "\n",
    "three_cluster_df.head(10)\n"
   ],
   "metadata": {
    "collapsed": false,
    "pycharm": {
     "name": "#%%\n",
     "is_executing": false
    }
   }
  },
  {
   "cell_type": "code",
   "execution_count": 77,
   "outputs": [
    {
     "data": {
      "text/plain": "   TotalSales  OrderCount  AvgOrderValue\n0    0.958740    0.968947       0.427677\n1    0.033273   -0.949696       0.841736\n2   -1.033641   -0.409417      -0.995263",
      "text/html": "<div>\n<style scoped>\n    .dataframe tbody tr th:only-of-type {\n        vertical-align: middle;\n    }\n\n    .dataframe tbody tr th {\n        vertical-align: top;\n    }\n\n    .dataframe thead th {\n        text-align: right;\n    }\n</style>\n<table border=\"1\" class=\"dataframe\">\n  <thead>\n    <tr style=\"text-align: right;\">\n      <th></th>\n      <th>TotalSales</th>\n      <th>OrderCount</th>\n      <th>AvgOrderValue</th>\n    </tr>\n  </thead>\n  <tbody>\n    <tr>\n      <th>0</th>\n      <td>0.958740</td>\n      <td>0.968947</td>\n      <td>0.427677</td>\n    </tr>\n    <tr>\n      <th>1</th>\n      <td>0.033273</td>\n      <td>-0.949696</td>\n      <td>0.841736</td>\n    </tr>\n    <tr>\n      <th>2</th>\n      <td>-1.033641</td>\n      <td>-0.409417</td>\n      <td>-0.995263</td>\n    </tr>\n  </tbody>\n</table>\n</div>"
     },
     "metadata": {},
     "output_type": "execute_result",
     "execution_count": 77
    }
   ],
   "source": [
    "cluster1_metrics = kmeans.cluster_centers_[0]\n",
    "cluster2_metrics = kmeans.cluster_centers_[1]\n",
    "cluster3_metrics = kmeans.cluster_centers_[2]\n",
    "\n",
    "data = [cluster1_metrics, cluster2_metrics, cluster3_metrics]\n",
    "cluster_center_df = pd.DataFrame(data)\n",
    "\n",
    "cluster_center_df.columns = three_cluster_df.columns[0:3]\n",
    "cluster_center_df"
   ],
   "metadata": {
    "collapsed": false,
    "pycharm": {
     "name": "#%%\n",
     "is_executing": false
    }
   }
  },
  {
   "cell_type": "code",
   "execution_count": 79,
   "outputs": [
    {
     "name": "stdout",
     "text": [
      "[0.95873953 0.96894712 0.42767653]\n"
     ],
     "output_type": "stream"
    }
   ],
   "source": [
    "print(cluster1_metrics)"
   ],
   "metadata": {
    "collapsed": false,
    "pycharm": {
     "name": "#%%\n",
     "is_executing": false
    }
   }
  },
  {
   "cell_type": "markdown",
   "source": [
    "For this next piece, we are going to visualize the clusters by putting the different columns on the x and y-axes. \n",
    "Let’s see what we get."
   ],
   "metadata": {
    "collapsed": false,
    "pycharm": {
     "name": "#%% md\n"
    }
   }
  },
  {
   "cell_type": "code",
   "execution_count": 91,
   "outputs": [
    {
     "data": {
      "text/plain": "<Figure size 432x288 with 1 Axes>",
      "image/png": "[encoded data removed]"
     },
     "metadata": {
      "needs_background": "light"
     },
     "output_type": "display_data"
    }
   ],
   "source": [
    "plt.scatter(\n",
    "    three_cluster_df.loc[three_cluster_df['Cluster'] == 0]['OrderCount'], \n",
    "    three_cluster_df.loc[three_cluster_df['Cluster'] == 0]['TotalSales'],\n",
    "    c='blue')\n",
    "\n",
    "plt.scatter(\n",
    "    three_cluster_df.loc[three_cluster_df['Cluster'] == 1]['OrderCount'], \n",
    "    three_cluster_df.loc[three_cluster_df['Cluster'] == 1]['TotalSales'],\n",
    "    c='red')\n",
    "\n",
    "plt.scatter(\n",
    "    three_cluster_df.loc[three_cluster_df['Cluster'] == 2]['OrderCount'], \n",
    "    three_cluster_df.loc[three_cluster_df['Cluster'] == 2]['TotalSales'],\n",
    "    c='orange')\n",
    "\n",
    "plt.scatter(\n",
    "    three_cluster_df.loc[three_cluster_df['Cluster'] == 3]['OrderCount'], \n",
    "    three_cluster_df.loc[three_cluster_df['Cluster'] == 3]['TotalSales'],\n",
    "    c='green')\n",
    "\n",
    "plt.title('TotalSales vs. OrderCount Clusters')\n",
    "plt.xlabel('Order Count')\n",
    "plt.ylabel('Total Sales')\n",
    "\n",
    "plt.grid()\n",
    "plt.show()"
   ],
   "metadata": {
    "collapsed": false,
    "pycharm": {
     "name": "#%%\n",
     "is_executing": false
    }
   }
  },
  {
   "cell_type": "code",
   "execution_count": 92,
   "outputs": [
    {
     "data": {
      "text/plain": "'\\nThe customers in green have low total sales AND low order count, meaning they are all-around low-value customers. \\nOn the other hand, the customers in orange have high total sales AND high order counts, indicating they are \\nthe highest value customers.\\n'"
     },
     "metadata": {},
     "output_type": "execute_result",
     "execution_count": 92
    }
   ],
   "source": [
    "\"\"\"\n",
    "The customers in yellow have low total sales AND low order count, meaning they are all-around low-value customers. \n",
    "On the other hand, the customers in blue have high total sales AND high order counts, indicating they are \n",
    "the highest value customers.\n",
    "\"\"\""
   ],
   "metadata": {
    "collapsed": false,
    "pycharm": {
     "name": "#%%\n",
     "is_executing": false
    }
   }
  },
  {
   "cell_type": "code",
   "execution_count": 88,
   "outputs": [
    {
     "data": {
      "text/plain": "<Figure size 432x288 with 1 Axes>",
      "image/png": "[encoded data removed]"
     },
     "metadata": {
      "needs_background": "light"
     },
     "output_type": "display_data"
    }
   ],
   "source": [
    "plt.scatter(\n",
    "    three_cluster_df.loc[three_cluster_df['Cluster'] == 0]['OrderCount'], \n",
    "    three_cluster_df.loc[three_cluster_df['Cluster'] == 0]['AvgOrderValue'],\n",
    "    c='blue')\n",
    "\n",
    "plt.scatter(\n",
    "    three_cluster_df.loc[three_cluster_df['Cluster'] == 1]['OrderCount'], \n",
    "    three_cluster_df.loc[three_cluster_df['Cluster'] == 1]['AvgOrderValue'],\n",
    "    c='red')\n",
    "\n",
    "plt.scatter(\n",
    "    three_cluster_df.loc[three_cluster_df['Cluster'] == 2]['OrderCount'], \n",
    "    three_cluster_df.loc[three_cluster_df['Cluster'] == 2]['AvgOrderValue'],\n",
    "    c='orange')\n",
    "\n",
    "plt.scatter(\n",
    "    three_cluster_df.loc[three_cluster_df['Cluster'] == 3]['OrderCount'], \n",
    "    three_cluster_df.loc[three_cluster_df['Cluster'] == 3]['AvgOrderValue'],\n",
    "    c='green')\n",
    "\n",
    "plt.title('AvgOrderValue vs. OrderCount Clusters')\n",
    "plt.xlabel('Order Count')\n",
    "plt.ylabel('Avg Order Value')\n",
    "\n",
    "plt.grid()\n",
    "plt.show()"
   ],
   "metadata": {
    "collapsed": false,
    "pycharm": {
     "name": "#%%\n",
     "is_executing": false
    }
   }
  },
  {
   "cell_type": "code",
   "execution_count": 89,
   "outputs": [
    {
     "data": {
      "text/plain": "'\\n## In this plot, we’re looking at the average order value vs the order count. Once again, the customers in green \\nare the lowest value customers and the customers in orange are the highest value customers.\\n\\nYou could look at this in another way. You could look at the customers in the red cluster and attempt to find ways \\nto increase their order count with email reminders or SMS push notifications targeted based on some other \\nidentifying factors. Maybe you could email them a discount if they return within 30 days. Better yet, \\nyou can offer a delayed coupon (to be used in a specific time period) upon checkout.\\n\\nLikewise, with customers in the blue segment, you might want to try some cross-selling and up-selling \\ntechniques at the cart. Maybe a quick pop-up with an offer, based on market basket analysis \\n(see the market basket analysis section below).\\n'"
     },
     "metadata": {},
     "output_type": "execute_result",
     "execution_count": 89
    }
   ],
   "source": [
    "\"\"\"\n",
    "## In this plot, we’re looking at the average order value vs the order count. Once again, the customers in yellow \n",
    "are the lowest value customers and the customers in *blue are the highest value customers.\n",
    "\n",
    "You could look at this in another way. ** You could look at the customers in the red cluster and attempt to find ways \n",
    "to increase their order count with email reminders or SMS push notifications targeted based on some other \n",
    "identifying factors. ** Maybe you could email them a discount if they return within 30 days. Better yet, \n",
    "you can offer a delayed coupon (to be used in a specific time period) upon checkout.\n",
    "\n",
    "Likewise, with customers in the blue segment, you might want to try some ** cross-selling and up-selling **\n",
    "techniques at the cart. Maybe a quick pop-up with an offer, based on market basket analysis \n",
    "(see the market basket analysis section below).\n",
    "\"\"\"\n"
   ],
   "metadata": {
    "collapsed": false,
    "pycharm": {
     "name": "#%%\n",
     "is_executing": false
    }
   }
  },
  {
   "cell_type": "code",
   "execution_count": 90,
   "outputs": [
    {
     "data": {
      "text/plain": "<Figure size 432x288 with 1 Axes>",
      "image/png": "[encoded data removed]"
     },
     "metadata": {
      "needs_background": "light"
     },
     "output_type": "display_data"
    }
   ],
   "source": [
    "plt.scatter(\n",
    "    three_cluster_df.loc[three_cluster_df['Cluster'] == 0]['TotalSales'], \n",
    "    three_cluster_df.loc[three_cluster_df['Cluster'] == 0]['AvgOrderValue'],\n",
    "    c='blue')\n",
    "\n",
    "plt.scatter(\n",
    "    three_cluster_df.loc[three_cluster_df['Cluster'] == 1]['TotalSales'], \n",
    "    three_cluster_df.loc[three_cluster_df['Cluster'] == 1]['AvgOrderValue'],\n",
    "    c='red')\n",
    "\n",
    "plt.scatter(\n",
    "    three_cluster_df.loc[three_cluster_df['Cluster'] == 2]['TotalSales'], \n",
    "    three_cluster_df.loc[three_cluster_df['Cluster'] == 2]['AvgOrderValue'],\n",
    "    c='orange')\n",
    "\n",
    "plt.scatter(\n",
    "    three_cluster_df.loc[three_cluster_df['Cluster'] == 3]['TotalSales'], \n",
    "    three_cluster_df.loc[three_cluster_df['Cluster'] == 3]['AvgOrderValue'],\n",
    "    c='green')\n",
    "\n",
    "plt.title('AvgOrderValue vs. TotalSales Clusters')\n",
    "plt.xlabel('Total Sales')\n",
    "plt.ylabel('Avg Order Value')\n",
    "\n",
    "plt.grid()\n",
    "plt.show()"
   ],
   "metadata": {
    "collapsed": false,
    "pycharm": {
     "name": "#%%\n",
     "is_executing": false
    }
   }
  },
  {
   "cell_type": "code",
   "execution_count": 4,
   "outputs": [
    {
     "data": {
      "text/plain": "'\\nIn this plot, we have the average order value versus total sales clusters. This plot further substantiates \\nthe previous 2 plots in identifying the blue cluster as the highest value customers, yellow as the lowest \\nvalue customers, and the blue and red as high opportunity customers.\\n\\nFrom a growth perspective, I’d focus my attention on the blue and red clusters. I’d attempt to better \\nunderstand each cluster and their granular behaviors on-site in order to identify which cluster to focus \\non first and inform the first few rounds of experiments.\\n'"
     },
     "metadata": {},
     "output_type": "execute_result",
     "execution_count": 4
    }
   ],
   "source": [
    "\"\"\"\n",
    "In this plot, we have the average order value versus total sales clusters. This plot further substantiates \n",
    "the previous 2 plots in identifying the blue cluster as the highest value customers, yellow as the lowest \n",
    "value customers, and the blue and red as high opportunity customers.\n",
    "\n",
    "From a growth perspective, I’d focus my attention on the blue and red clusters. I’d attempt to better \n",
    "understand each cluster and their granular behaviors on-site in order to identify which cluster to focus \n",
    "on first and inform the first few rounds of experiments.\n",
    "\"\"\"\n",
    "\n",
    "# Find the best-selling item by segment"
   ],
   "metadata": {
    "collapsed": false,
    "pycharm": {
     "name": "#%%\n",
     "is_executing": false
    }
   }
  },
  {
   "cell_type": "code",
   "execution_count": 5,
   "outputs": [
    {
     "traceback": [
      "\u001b[0;31m---------------------------------------------------------------------------\u001b[0m",
      "\u001b[0;31mNameError\u001b[0m                                 Traceback (most recent call last)",
      "\u001b[0;32m<ipython-input-5-3973f38796a8>\u001b[0m in \u001b[0;36m<module>\u001b[0;34m\u001b[0m\n\u001b[0;32m----> 1\u001b[0;31m \u001b[0mhigh_value_cluster\u001b[0m \u001b[0;34m=\u001b[0m \u001b[0mfour_cluster_df\u001b[0m\u001b[0;34m.\u001b[0m\u001b[0mloc\u001b[0m\u001b[0;34m[\u001b[0m\u001b[0mfour_cluster_df\u001b[0m\u001b[0;34m[\u001b[0m\u001b[0;34m'Cluster'\u001b[0m\u001b[0;34m]\u001b[0m \u001b[0;34m==\u001b[0m \u001b[0;36m2\u001b[0m\u001b[0;34m]\u001b[0m\u001b[0;34m\u001b[0m\u001b[0;34m\u001b[0m\u001b[0m\n\u001b[0m\u001b[1;32m      2\u001b[0m \u001b[0;34m\u001b[0m\u001b[0m\n\u001b[1;32m      3\u001b[0m pd.DataFrame(df.loc[df['CustomerID'].isin(high_value_cluster.index)].groupby(\n\u001b[1;32m      4\u001b[0m     'Description').count()['StockCode'].sort_values(ascending=False).head())\n\u001b[1;32m      5\u001b[0m \u001b[0;34m\u001b[0m\u001b[0m\n",
      "\u001b[0;31mNameError\u001b[0m: name 'four_cluster_df' is not defined"
     ],
     "ename": "NameError",
     "evalue": "name 'four_cluster_df' is not defined",
     "output_type": "error"
    }
   ],
   "source": [
    "high_value_cluster = three_cluster_df.loc[three_cluster_df['Cluster'] == 2]\n",
    "\n",
    "pd.DataFrame(df.loc[df['CustomerID'].isin(high_value_cluster.index)].groupby(\n",
    "    'Description').count()['StockCode'].sort_values(ascending=False).head())\n",
    "\n"
   ],
   "metadata": {
    "collapsed": false,
    "pycharm": {
     "name": "#%%\n",
     "is_executing": false
    }
   }
  },
  {
   "cell_type": "code",
   "execution_count": null,
   "outputs": [],
   "source": [
    "\"\"\"\n",
    "According to the segmentation, suggest to them the best suitable products to them\n",
    "\n",
    "Based on this information, we now know that the Jumbo Bag Red Retrospot is the best-selling item \n",
    "for our highest-value cluster. With that information in hand, we can make recommendations of Other Items \n",
    "You Might Like to customers within this segment. These actions can be taken to another level of specificity \n",
    "with Association Rule Mining and Market Basket Analysis which I’ll cover below.\n",
    "\"\"\"\n"
   ],
   "metadata": {
    "collapsed": false,
    "pycharm": {
     "name": "#%%\n"
    }
   }
  }
 ],
 "metadata": {
  "kernelspec": {
   "display_name": "Python 3",
   "language": "python",
   "name": "python3"
  },
  "language_info": {
   "codemirror_mode": {
    "name": "ipython",
    "version": 3
   },
   "file_extension": ".py",
   "mimetype": "text/x-python",
   "name": "python",
   "nbconvert_exporter": "python",
   "pygments_lexer": "ipython3",
   "version": "3.7.4"
  },
  "pycharm": {
   "stem_cell": {
    "cell_type": "raw",
    "source": [],
    "metadata": {
     "collapsed": false
    }
   }
  }
 },
 "nbformat": 4,
 "nbformat_minor": 1
}