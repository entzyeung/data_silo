{
 "cells": [
  {
   "cell_type": "code",
   "execution_count": 22,
   "metadata": {
    "collapsed": true,
    "pycharm": {
     "is_executing": false
    }
   },
   "outputs": [],
   "source": [
    "\n",
    "import os"
   ]
  },
  {
   "cell_type": "code",
   "execution_count": 23,
   "outputs": [
    {
     "data": {
      "text/plain": "   Row ID         Order ID Order Date Ship Date     Ship Mode Customer ID  \\\n0   32298   CA-2012-124891    31/7/12   31/7/12      Same Day    RH-19495   \n1   26341    IN-2013-77878     5/2/13    7/2/13  Second Class    JR-16210   \n2   25330    IN-2013-71249   17/10/13  18/10/13   First Class    CR-12730   \n3   13524  ES-2013-1579342    28/1/13   30/1/13   First Class    KM-16375   \n4   47221     SG-2013-4320    5/11/13   6/11/13      Same Day     RH-9495   \n\n      Customer Name      Segment           City            State  ...  \\\n0       Rick Hansen     Consumer  New York City         New York  ...   \n1     Justin Ritter    Corporate     Wollongong  New South Wales  ...   \n2      Craig Reiter     Consumer       Brisbane       Queensland  ...   \n3  Katherine Murray  Home Office         Berlin           Berlin  ...   \n4       Rick Hansen     Consumer          Dakar            Dakar  ...   \n\n         Product ID    Category Sub-Category  \\\n0   TEC-AC-10003033  Technology  Accessories   \n1   FUR-CH-10003950   Furniture       Chairs   \n2   TEC-PH-10004664  Technology       Phones   \n3   TEC-PH-10004583  Technology       Phones   \n4  TEC-SHA-10000501  Technology      Copiers   \n\n                                        Product Name     Sales Quantity  \\\n0  Plantronics CS510 - Over-the-Head monaural Wir...  2309.650        7   \n1          Novimex Executive Leather Armchair, Black  3709.395        9   \n2                  Nokia Smart Phone, with Caller ID  5175.171        9   \n3                     Motorola Smart Phone, Cordless  2892.510        5   \n4                     Sharp Wireless Fax, High-Speed  2832.960        8   \n\n  Discount    Profit  Shipping Cost  Order Priority  \n0      0.0  762.1845         933.57        Critical  \n1      0.1 -288.7650         923.63        Critical  \n2      0.1  919.9710         915.49          Medium  \n3      0.1  -96.5400         910.16          Medium  \n4      0.0  311.5200         903.04        Critical  \n\n[5 rows x 24 columns]",
      "text/html": "<div>\n<style scoped>\n    .dataframe tbody tr th:only-of-type {\n        vertical-align: middle;\n    }\n\n    .dataframe tbody tr th {\n        vertical-align: top;\n    }\n\n    .dataframe thead th {\n        text-align: right;\n    }\n</style>\n<table border=\"1\" class=\"dataframe\">\n  <thead>\n    <tr style=\"text-align: right;\">\n      <th></th>\n      <th>Row ID</th>\n      <th>Order ID</th>\n      <th>Order Date</th>\n      <th>Ship Date</th>\n      <th>Ship Mode</th>\n      <th>Customer ID</th>\n      <th>Customer Name</th>\n      <th>Segment</th>\n      <th>City</th>\n      <th>State</th>\n      <th>...</th>\n      <th>Product ID</th>\n      <th>Category</th>\n      <th>Sub-Category</th>\n      <th>Product Name</th>\n      <th>Sales</th>\n      <th>Quantity</th>\n      <th>Discount</th>\n      <th>Profit</th>\n      <th>Shipping Cost</th>\n      <th>Order Priority</th>\n    </tr>\n  </thead>\n  <tbody>\n    <tr>\n      <th>0</th>\n      <td>32298</td>\n      <td>CA-2012-124891</td>\n      <td>31/7/12</td>\n      <td>31/7/12</td>\n      <td>Same Day</td>\n      <td>RH-19495</td>\n      <td>Rick Hansen</td>\n      <td>Consumer</td>\n      <td>New York City</td>\n      <td>New York</td>\n      <td>...</td>\n      <td>TEC-AC-10003033</td>\n      <td>Technology</td>\n      <td>Accessories</td>\n      <td>Plantronics CS510 - Over-the-Head monaural Wir...</td>\n      <td>2309.650</td>\n      <td>7</td>\n      <td>0.0</td>\n      <td>762.1845</td>\n      <td>933.57</td>\n      <td>Critical</td>\n    </tr>\n    <tr>\n      <th>1</th>\n      <td>26341</td>\n      <td>IN-2013-77878</td>\n      <td>5/2/13</td>\n      <td>7/2/13</td>\n      <td>Second Class</td>\n      <td>JR-16210</td>\n      <td>Justin Ritter</td>\n      <td>Corporate</td>\n      <td>Wollongong</td>\n      <td>New South Wales</td>\n      <td>...</td>\n      <td>FUR-CH-10003950</td>\n      <td>Furniture</td>\n      <td>Chairs</td>\n      <td>Novimex Executive Leather Armchair, Black</td>\n      <td>3709.395</td>\n      <td>9</td>\n      <td>0.1</td>\n      <td>-288.7650</td>\n      <td>923.63</td>\n      <td>Critical</td>\n    </tr>\n    <tr>\n      <th>2</th>\n      <td>25330</td>\n      <td>IN-2013-71249</td>\n      <td>17/10/13</td>\n      <td>18/10/13</td>\n      <td>First Class</td>\n      <td>CR-12730</td>\n      <td>Craig Reiter</td>\n      <td>Consumer</td>\n      <td>Brisbane</td>\n      <td>Queensland</td>\n      <td>...</td>\n      <td>TEC-PH-10004664</td>\n      <td>Technology</td>\n      <td>Phones</td>\n      <td>Nokia Smart Phone, with Caller ID</td>\n      <td>5175.171</td>\n      <td>9</td>\n      <td>0.1</td>\n      <td>919.9710</td>\n      <td>915.49</td>\n      <td>Medium</td>\n    </tr>\n    <tr>\n      <th>3</th>\n      <td>13524</td>\n      <td>ES-2013-1579342</td>\n      <td>28/1/13</td>\n      <td>30/1/13</td>\n      <td>First Class</td>\n      <td>KM-16375</td>\n      <td>Katherine Murray</td>\n      <td>Home Office</td>\n      <td>Berlin</td>\n      <td>Berlin</td>\n      <td>...</td>\n      <td>TEC-PH-10004583</td>\n      <td>Technology</td>\n      <td>Phones</td>\n      <td>Motorola Smart Phone, Cordless</td>\n      <td>2892.510</td>\n      <td>5</td>\n      <td>0.1</td>\n      <td>-96.5400</td>\n      <td>910.16</td>\n      <td>Medium</td>\n    </tr>\n    <tr>\n      <th>4</th>\n      <td>47221</td>\n      <td>SG-2013-4320</td>\n      <td>5/11/13</td>\n      <td>6/11/13</td>\n      <td>Same Day</td>\n      <td>RH-9495</td>\n      <td>Rick Hansen</td>\n      <td>Consumer</td>\n      <td>Dakar</td>\n      <td>Dakar</td>\n      <td>...</td>\n      <td>TEC-SHA-10000501</td>\n      <td>Technology</td>\n      <td>Copiers</td>\n      <td>Sharp Wireless Fax, High-Speed</td>\n      <td>2832.960</td>\n      <td>8</td>\n      <td>0.0</td>\n      <td>311.5200</td>\n      <td>903.04</td>\n      <td>Critical</td>\n    </tr>\n  </tbody>\n</table>\n<p>5 rows × 24 columns</p>\n</div>"
     },
     "metadata": {},
     "output_type": "execute_result",
     "execution_count": 23
    }
   ],
   "source": [
    "import matplotlib as plt\n",
    "import numpy as np\n",
    "%matplotlib inline  \n",
    "import warnings\n",
    "import pandas as pd\n",
    "import datetime\n",
    "warnings.filterwarnings('ignore')\n",
    "\n",
    "df = pd.read_csv(\"./Sales_Data/data.csv\")\n",
    "#df2 = pd.read_excel(url)\n",
    "df.head()"
   ],
   "metadata": {
    "collapsed": false,
    "pycharm": {
     "name": "#%%\n",
     "is_executing": false
    }
   }
  },
  {
   "cell_type": "code",
   "execution_count": 24,
   "outputs": [],
   "source": [
    "# Step 0: Load, filter, clean, and aggregate the data at the customer level\n",
    "\n",
    "df = df[(df.Segment == 'Consumer') & (df.Country == 'United States')]\n",
    "# infer_datetime_format=True\n",
    "df['Order Date'] =  pd.to_datetime(df['Order Date'], infer_datetime_format=True, format='%d%m%Y')"
   ],
   "metadata": {
    "collapsed": false,
    "pycharm": {
     "name": "#%%\n",
     "is_executing": false
    }
   }
  },
  {
   "cell_type": "code",
   "execution_count": 25,
   "outputs": [
    {
     "data": {
      "text/plain": "datetime.date(2014, 12, 31)"
     },
     "metadata": {},
     "output_type": "execute_result",
     "execution_count": 25
    }
   ],
   "source": [
    "# divide it into year, month, day\n",
    "df['Order Date'].max().date()"
   ],
   "metadata": {
    "collapsed": false,
    "pycharm": {
     "name": "#%%\n",
     "is_executing": false
    }
   }
  },
  {
   "cell_type": "markdown",
   "source": [
    "## Step 1: Create RFM Features for each customers"
   ],
   "metadata": {
    "collapsed": false,
    "pycharm": {
     "name": "#%% md\n",
     "is_executing": false
    }
   }
  },
  {
   "cell_type": "code",
   "execution_count": 26,
   "outputs": [
    {
     "data": {
      "text/plain": "             Recency  Frequency  Monetary\nCustomer ID                              \nRB-19360          96          6  15117.34\nAB-10105          41         10  14473.57\nKL-16645          47         12  14175.23\nSC-20095         349          9  14142.33\nHL-15040          43          6  12873.30",
      "text/html": "<div>\n<style scoped>\n    .dataframe tbody tr th:only-of-type {\n        vertical-align: middle;\n    }\n\n    .dataframe tbody tr th {\n        vertical-align: top;\n    }\n\n    .dataframe thead th {\n        text-align: right;\n    }\n</style>\n<table border=\"1\" class=\"dataframe\">\n  <thead>\n    <tr style=\"text-align: right;\">\n      <th></th>\n      <th>Recency</th>\n      <th>Frequency</th>\n      <th>Monetary</th>\n    </tr>\n    <tr>\n      <th>Customer ID</th>\n      <th></th>\n      <th></th>\n      <th></th>\n    </tr>\n  </thead>\n  <tbody>\n    <tr>\n      <th>RB-19360</th>\n      <td>96</td>\n      <td>6</td>\n      <td>15117.34</td>\n    </tr>\n    <tr>\n      <th>AB-10105</th>\n      <td>41</td>\n      <td>10</td>\n      <td>14473.57</td>\n    </tr>\n    <tr>\n      <th>KL-16645</th>\n      <td>47</td>\n      <td>12</td>\n      <td>14175.23</td>\n    </tr>\n    <tr>\n      <th>SC-20095</th>\n      <td>349</td>\n      <td>9</td>\n      <td>14142.33</td>\n    </tr>\n    <tr>\n      <th>HL-15040</th>\n      <td>43</td>\n      <td>6</td>\n      <td>12873.30</td>\n    </tr>\n  </tbody>\n</table>\n</div>"
     },
     "metadata": {},
     "output_type": "execute_result",
     "execution_count": 26
    }
   ],
   "source": [
    "# df.groupby('A').agg(['min', 'max'])\n",
    "\n",
    "df_RFM = df.groupby('Customer ID').agg({'Order Date': lambda y: (df['Order Date'].max().date() - y.max().date()).days,\n",
    "                                        'Order ID': lambda y: len(y.unique()),  \n",
    "                                        'Sales': lambda y: round(y.sum(),2)})\n",
    "df_RFM.columns = ['Recency', 'Frequency', 'Monetary']\n",
    "df_RFM = df_RFM.sort_values('Monetary', ascending=False)\n",
    "df_RFM.head()"
   ],
   "metadata": {
    "collapsed": false,
    "pycharm": {
     "name": "#%%\n",
     "is_executing": false
    }
   }
  },
  {
   "cell_type": "markdown",
   "source": [
    "## Step 2: To automate the segmentation we will use 80% quantile for Recency and Monetary"
   ],
   "metadata": {
    "collapsed": false,
    "pycharm": {
     "name": "#%% md\n"
    }
   }
  },
  {
   "cell_type": "code",
   "execution_count": 27,
   "outputs": [
    {
     "name": "stdout",
     "text": [
      "     Recency  Frequency  Monetary\n",
      "0.8    267.4        8.0   4070.17\n"
     ],
     "output_type": "stream"
    },
    {
     "data": {
      "text/plain": "             Recency  Frequency  Monetary  R  F  M\nCustomer ID                                       \nRB-19360          96          6  15117.34  2  1  2\nAB-10105          41         10  14473.57  2  2  2\nKL-16645          47         12  14175.23  2  2  2\nSC-20095         349          9  14142.33  1  2  2\nHL-15040          43          6  12873.30  2  1  2",
      "text/html": "<div>\n<style scoped>\n    .dataframe tbody tr th:only-of-type {\n        vertical-align: middle;\n    }\n\n    .dataframe tbody tr th {\n        vertical-align: top;\n    }\n\n    .dataframe thead th {\n        text-align: right;\n    }\n</style>\n<table border=\"1\" class=\"dataframe\">\n  <thead>\n    <tr style=\"text-align: right;\">\n      <th></th>\n      <th>Recency</th>\n      <th>Frequency</th>\n      <th>Monetary</th>\n      <th>R</th>\n      <th>F</th>\n      <th>M</th>\n    </tr>\n    <tr>\n      <th>Customer ID</th>\n      <th></th>\n      <th></th>\n      <th></th>\n      <th></th>\n      <th></th>\n      <th></th>\n    </tr>\n  </thead>\n  <tbody>\n    <tr>\n      <th>RB-19360</th>\n      <td>96</td>\n      <td>6</td>\n      <td>15117.34</td>\n      <td>2</td>\n      <td>1</td>\n      <td>2</td>\n    </tr>\n    <tr>\n      <th>AB-10105</th>\n      <td>41</td>\n      <td>10</td>\n      <td>14473.57</td>\n      <td>2</td>\n      <td>2</td>\n      <td>2</td>\n    </tr>\n    <tr>\n      <th>KL-16645</th>\n      <td>47</td>\n      <td>12</td>\n      <td>14175.23</td>\n      <td>2</td>\n      <td>2</td>\n      <td>2</td>\n    </tr>\n    <tr>\n      <th>SC-20095</th>\n      <td>349</td>\n      <td>9</td>\n      <td>14142.33</td>\n      <td>1</td>\n      <td>2</td>\n      <td>2</td>\n    </tr>\n    <tr>\n      <th>HL-15040</th>\n      <td>43</td>\n      <td>6</td>\n      <td>12873.30</td>\n      <td>2</td>\n      <td>1</td>\n      <td>2</td>\n    </tr>\n  </tbody>\n</table>\n</div>"
     },
     "metadata": {},
     "output_type": "execute_result",
     "execution_count": 27
    }
   ],
   "source": [
    "# We will use the 80% quantile for each feature\n",
    "quantiles = df_RFM.quantile(q=[0.8])\n",
    "print(quantiles)\n",
    "df_RFM['R']=np.where(df_RFM['Recency']<=int(quantiles.Recency.values), 2, 1)\n",
    "df_RFM['F']=np.where(df_RFM['Frequency']>=int(quantiles.Frequency.values), 2, 1)\n",
    "df_RFM['M']=np.where(df_RFM['Monetary']>=int(quantiles.Monetary.values), 2, 1)\n",
    "df_RFM.head()\n"
   ],
   "metadata": {
    "collapsed": false,
    "pycharm": {
     "name": "#%%\n",
     "is_executing": false
    }
   }
  },
  {
   "cell_type": "markdown",
   "source": [
    "## Step 3: Calculate RFM score and sort customers"
   ],
   "metadata": {
    "collapsed": false,
    "pycharm": {
     "name": "#%% md\n"
    }
   }
  },
  {
   "cell_type": "code",
   "source": [
    "# To do the 2 x 2 matrix we will only use Recency & Monetary\n",
    "df_RFM['RMScore'] = df_RFM.M.map(str)+df_RFM.R.map(str)\n",
    "df_RFM.head()"
   ],
   "metadata": {
    "collapsed": false,
    "pycharm": {
     "name": "#%% \n",
     "is_executing": false
    }
   },
   "execution_count": 28,
   "outputs": [
    {
     "data": {
      "text/plain": "             Recency  Frequency  Monetary  R  F  M RMScore\nCustomer ID                                               \nRB-19360          96          6  15117.34  2  1  2      22\nAB-10105          41         10  14473.57  2  2  2      22\nKL-16645          47         12  14175.23  2  2  2      22\nSC-20095         349          9  14142.33  1  2  2      21\nHL-15040          43          6  12873.30  2  1  2      22",
      "text/html": "<div>\n<style scoped>\n    .dataframe tbody tr th:only-of-type {\n        vertical-align: middle;\n    }\n\n    .dataframe tbody tr th {\n        vertical-align: top;\n    }\n\n    .dataframe thead th {\n        text-align: right;\n    }\n</style>\n<table border=\"1\" class=\"dataframe\">\n  <thead>\n    <tr style=\"text-align: right;\">\n      <th></th>\n      <th>Recency</th>\n      <th>Frequency</th>\n      <th>Monetary</th>\n      <th>R</th>\n      <th>F</th>\n      <th>M</th>\n      <th>RMScore</th>\n    </tr>\n    <tr>\n      <th>Customer ID</th>\n      <th></th>\n      <th></th>\n      <th></th>\n      <th></th>\n      <th></th>\n      <th></th>\n      <th></th>\n    </tr>\n  </thead>\n  <tbody>\n    <tr>\n      <th>RB-19360</th>\n      <td>96</td>\n      <td>6</td>\n      <td>15117.34</td>\n      <td>2</td>\n      <td>1</td>\n      <td>2</td>\n      <td>22</td>\n    </tr>\n    <tr>\n      <th>AB-10105</th>\n      <td>41</td>\n      <td>10</td>\n      <td>14473.57</td>\n      <td>2</td>\n      <td>2</td>\n      <td>2</td>\n      <td>22</td>\n    </tr>\n    <tr>\n      <th>KL-16645</th>\n      <td>47</td>\n      <td>12</td>\n      <td>14175.23</td>\n      <td>2</td>\n      <td>2</td>\n      <td>2</td>\n      <td>22</td>\n    </tr>\n    <tr>\n      <th>SC-20095</th>\n      <td>349</td>\n      <td>9</td>\n      <td>14142.33</td>\n      <td>1</td>\n      <td>2</td>\n      <td>2</td>\n      <td>21</td>\n    </tr>\n    <tr>\n      <th>HL-15040</th>\n      <td>43</td>\n      <td>6</td>\n      <td>12873.30</td>\n      <td>2</td>\n      <td>1</td>\n      <td>2</td>\n      <td>22</td>\n    </tr>\n  </tbody>\n</table>\n</div>"
     },
     "metadata": {},
     "output_type": "execute_result",
     "execution_count": 28
    }
   ]
  },
  {
   "cell_type": "code",
   "execution_count": 29,
   "outputs": [
    {
     "data": {
      "text/plain": "  Customer ID  Recency  Frequency  Monetary  R  F  M RMScore\n0    RB-19360       96          6  15117.34  2  1  2      22\n1    AB-10105       41         10  14473.57  2  2  2      22\n2    KL-16645       47         12  14175.23  2  2  2      22\n3    SC-20095      349          9  14142.33  1  2  2      21\n4    HL-15040       43          6  12873.30  2  1  2      22",
      "text/html": "<div>\n<style scoped>\n    .dataframe tbody tr th:only-of-type {\n        vertical-align: middle;\n    }\n\n    .dataframe tbody tr th {\n        vertical-align: top;\n    }\n\n    .dataframe thead th {\n        text-align: right;\n    }\n</style>\n<table border=\"1\" class=\"dataframe\">\n  <thead>\n    <tr style=\"text-align: right;\">\n      <th></th>\n      <th>Customer ID</th>\n      <th>Recency</th>\n      <th>Frequency</th>\n      <th>Monetary</th>\n      <th>R</th>\n      <th>F</th>\n      <th>M</th>\n      <th>RMScore</th>\n    </tr>\n  </thead>\n  <tbody>\n    <tr>\n      <th>0</th>\n      <td>RB-19360</td>\n      <td>96</td>\n      <td>6</td>\n      <td>15117.34</td>\n      <td>2</td>\n      <td>1</td>\n      <td>2</td>\n      <td>22</td>\n    </tr>\n    <tr>\n      <th>1</th>\n      <td>AB-10105</td>\n      <td>41</td>\n      <td>10</td>\n      <td>14473.57</td>\n      <td>2</td>\n      <td>2</td>\n      <td>2</td>\n      <td>22</td>\n    </tr>\n    <tr>\n      <th>2</th>\n      <td>KL-16645</td>\n      <td>47</td>\n      <td>12</td>\n      <td>14175.23</td>\n      <td>2</td>\n      <td>2</td>\n      <td>2</td>\n      <td>22</td>\n    </tr>\n    <tr>\n      <th>3</th>\n      <td>SC-20095</td>\n      <td>349</td>\n      <td>9</td>\n      <td>14142.33</td>\n      <td>1</td>\n      <td>2</td>\n      <td>2</td>\n      <td>21</td>\n    </tr>\n    <tr>\n      <th>4</th>\n      <td>HL-15040</td>\n      <td>43</td>\n      <td>6</td>\n      <td>12873.30</td>\n      <td>2</td>\n      <td>1</td>\n      <td>2</td>\n      <td>22</td>\n    </tr>\n  </tbody>\n</table>\n</div>"
     },
     "metadata": {},
     "output_type": "execute_result",
     "execution_count": 29
    }
   ],
   "source": [
    "df_RFM = df_RFM.reset_index()\n",
    "df_RFM.head()"
   ],
   "metadata": {
    "collapsed": false,
    "pycharm": {
     "name": "#%%\n",
     "is_executing": false
    }
   }
  },
  {
   "cell_type": "code",
   "execution_count": 54,
   "outputs": [
    {
     "data": {
      "text/plain": "         Customer ID  Frequency  Recency  R  M  Monetary\nRMScore                                                 \n11                70          5      472  1  1    1642.0\n12               257          6       90  2  1    1866.0\n21                12          7      422  1  2    7969.0\n22                70          8       68  2  2    6734.0",
      "text/html": "<div>\n<style scoped>\n    .dataframe tbody tr th:only-of-type {\n        vertical-align: middle;\n    }\n\n    .dataframe tbody tr th {\n        vertical-align: top;\n    }\n\n    .dataframe thead th {\n        text-align: right;\n    }\n</style>\n<table border=\"1\" class=\"dataframe\">\n  <thead>\n    <tr style=\"text-align: right;\">\n      <th></th>\n      <th>Customer ID</th>\n      <th>Frequency</th>\n      <th>Recency</th>\n      <th>R</th>\n      <th>M</th>\n      <th>Monetary</th>\n    </tr>\n    <tr>\n      <th>RMScore</th>\n      <th></th>\n      <th></th>\n      <th></th>\n      <th></th>\n      <th></th>\n      <th></th>\n    </tr>\n  </thead>\n  <tbody>\n    <tr>\n      <th>11</th>\n      <td>70</td>\n      <td>5</td>\n      <td>472</td>\n      <td>1</td>\n      <td>1</td>\n      <td>1642.0</td>\n    </tr>\n    <tr>\n      <th>12</th>\n      <td>257</td>\n      <td>6</td>\n      <td>90</td>\n      <td>2</td>\n      <td>1</td>\n      <td>1866.0</td>\n    </tr>\n    <tr>\n      <th>21</th>\n      <td>12</td>\n      <td>7</td>\n      <td>422</td>\n      <td>1</td>\n      <td>2</td>\n      <td>7969.0</td>\n    </tr>\n    <tr>\n      <th>22</th>\n      <td>70</td>\n      <td>8</td>\n      <td>68</td>\n      <td>2</td>\n      <td>2</td>\n      <td>6734.0</td>\n    </tr>\n  </tbody>\n</table>\n</div>"
     },
     "metadata": {},
     "output_type": "execute_result",
     "execution_count": 54
    }
   ],
   "source": [
    "df_RFM_SUM = df_RFM.groupby('RMScore').agg({'Customer ID': \"count\",\n",
    "                                        'Frequency': lambda y: round(y.mean(),0), # the mean of each partiition after grouping\n",
    "                                        'Recency': lambda y: round(y.mean(),0),\n",
    "                                        'R': lambda y: round(y.mean(),0),\n",
    "                                        'M': lambda y: round(y.mean(),0),\n",
    "                                        'Monetary': lambda y: round(y.mean(),0)})\n",
    "df_RFM_SUM"
   ],
   "metadata": {
    "collapsed": false,
    "pycharm": {
     "name": "#%%\n",
     "is_executing": false
    }
   }
  },
  {
   "cell_type": "code",
   "execution_count": 38,
   "outputs": [
    {
     "data": {
      "text/plain": "         Customer ID  Frequency  Recency  R  M  Monetary\nRMScore                                                 \n22                70          8       68  2  2    6734.0\n21                12          7      422  1  2    7969.0\n12               257          6       90  2  1    1866.0\n11                70          5      472  1  1    1642.0",
      "text/html": "<div>\n<style scoped>\n    .dataframe tbody tr th:only-of-type {\n        vertical-align: middle;\n    }\n\n    .dataframe tbody tr th {\n        vertical-align: top;\n    }\n\n    .dataframe thead th {\n        text-align: right;\n    }\n</style>\n<table border=\"1\" class=\"dataframe\">\n  <thead>\n    <tr style=\"text-align: right;\">\n      <th></th>\n      <th>Customer ID</th>\n      <th>Frequency</th>\n      <th>Recency</th>\n      <th>R</th>\n      <th>M</th>\n      <th>Monetary</th>\n    </tr>\n    <tr>\n      <th>RMScore</th>\n      <th></th>\n      <th></th>\n      <th></th>\n      <th></th>\n      <th></th>\n      <th></th>\n    </tr>\n  </thead>\n  <tbody>\n    <tr>\n      <th>22</th>\n      <td>70</td>\n      <td>8</td>\n      <td>68</td>\n      <td>2</td>\n      <td>2</td>\n      <td>6734.0</td>\n    </tr>\n    <tr>\n      <th>21</th>\n      <td>12</td>\n      <td>7</td>\n      <td>422</td>\n      <td>1</td>\n      <td>2</td>\n      <td>7969.0</td>\n    </tr>\n    <tr>\n      <th>12</th>\n      <td>257</td>\n      <td>6</td>\n      <td>90</td>\n      <td>2</td>\n      <td>1</td>\n      <td>1866.0</td>\n    </tr>\n    <tr>\n      <th>11</th>\n      <td>70</td>\n      <td>5</td>\n      <td>472</td>\n      <td>1</td>\n      <td>1</td>\n      <td>1642.0</td>\n    </tr>\n  </tbody>\n</table>\n</div>"
     },
     "metadata": {},
     "output_type": "execute_result",
     "execution_count": 38
    }
   ],
   "source": [
    "df_RFM_SUM = df_RFM_SUM.sort_values('RMScore', ascending=False)\n",
    "df_RFM_SUM\n"
   ],
   "metadata": {
    "collapsed": false,
    "pycharm": {
     "name": "#%%\n",
     "is_executing": false
    }
   }
  },
  {
   "cell_type": "markdown",
   "source": [
    "## Step 4: Visualize the Value Matrix and explore some key numbers"
   ],
   "metadata": {
    "collapsed": false
   }
  },
  {
   "cell_type": "code",
   "execution_count": 62,
   "outputs": [
    {
     "data": {
      "text/plain": "R       1       2\nM                \n2  7969.0  6734.0\n1  1642.0  1866.0",
      "text/html": "<div>\n<style scoped>\n    .dataframe tbody tr th:only-of-type {\n        vertical-align: middle;\n    }\n\n    .dataframe tbody tr th {\n        vertical-align: top;\n    }\n\n    .dataframe thead th {\n        text-align: right;\n    }\n</style>\n<table border=\"1\" class=\"dataframe\">\n  <thead>\n    <tr style=\"text-align: right;\">\n      <th>R</th>\n      <th>1</th>\n      <th>2</th>\n    </tr>\n    <tr>\n      <th>M</th>\n      <th></th>\n      <th></th>\n    </tr>\n  </thead>\n  <tbody>\n    <tr>\n      <th>2</th>\n      <td>7969.0</td>\n      <td>6734.0</td>\n    </tr>\n    <tr>\n      <th>1</th>\n      <td>1642.0</td>\n      <td>1866.0</td>\n    </tr>\n  </tbody>\n</table>\n</div>"
     },
     "metadata": {},
     "output_type": "execute_result",
     "execution_count": 62
    }
   ],
   "source": [
    "# 1) Average Monetary Matrix\n",
    "df_RFM_M = df_RFM_SUM.pivot(index='M', columns='R', values='Monetary')\n",
    "df_RFM_M= df_RFM_M.reset_index().sort_values(['M'], ascending = False).set_index(['M'])\n",
    "df_RFM_M"
   ],
   "metadata": {
    "collapsed": false,
    "pycharm": {
     "name": "#%%\n",
     "is_executing": false
    }
   }
  },
  {
   "cell_type": "code",
   "execution_count": 57,
   "outputs": [
    {
     "data": {
      "text/plain": "R   1    2\nM         \n2  12   70\n1  70  257",
      "text/html": "<div>\n<style scoped>\n    .dataframe tbody tr th:only-of-type {\n        vertical-align: middle;\n    }\n\n    .dataframe tbody tr th {\n        vertical-align: top;\n    }\n\n    .dataframe thead th {\n        text-align: right;\n    }\n</style>\n<table border=\"1\" class=\"dataframe\">\n  <thead>\n    <tr style=\"text-align: right;\">\n      <th>R</th>\n      <th>1</th>\n      <th>2</th>\n    </tr>\n    <tr>\n      <th>M</th>\n      <th></th>\n      <th></th>\n    </tr>\n  </thead>\n  <tbody>\n    <tr>\n      <th>2</th>\n      <td>12</td>\n      <td>70</td>\n    </tr>\n    <tr>\n      <th>1</th>\n      <td>70</td>\n      <td>257</td>\n    </tr>\n  </tbody>\n</table>\n</div>"
     },
     "metadata": {},
     "output_type": "execute_result",
     "execution_count": 57
    }
   ],
   "source": [
    "# 2) Number of Customer Matrix\n",
    "df_RFM_C = df_RFM_SUM.pivot(index='M', columns='R', values='Customer ID')\n",
    "df_RFM_C= df_RFM_C.reset_index().sort_values(['M'], ascending = False).set_index(['M'])\n",
    "df_RFM_C\n"
   ],
   "metadata": {
    "collapsed": false,
    "pycharm": {
     "name": "#%%\n",
     "is_executing": false
    }
   }
  },
  {
   "cell_type": "code",
   "execution_count": 60,
   "outputs": [
    {
     "data": {
      "text/plain": "R    1   2\nM         \n2  422  68\n1  472  90",
      "text/html": "<div>\n<style scoped>\n    .dataframe tbody tr th:only-of-type {\n        vertical-align: middle;\n    }\n\n    .dataframe tbody tr th {\n        vertical-align: top;\n    }\n\n    .dataframe thead th {\n        text-align: right;\n    }\n</style>\n<table border=\"1\" class=\"dataframe\">\n  <thead>\n    <tr style=\"text-align: right;\">\n      <th>R</th>\n      <th>1</th>\n      <th>2</th>\n    </tr>\n    <tr>\n      <th>M</th>\n      <th></th>\n      <th></th>\n    </tr>\n  </thead>\n  <tbody>\n    <tr>\n      <th>2</th>\n      <td>422</td>\n      <td>68</td>\n    </tr>\n    <tr>\n      <th>1</th>\n      <td>472</td>\n      <td>90</td>\n    </tr>\n  </tbody>\n</table>\n</div>"
     },
     "metadata": {},
     "output_type": "execute_result",
     "execution_count": 60
    }
   ],
   "source": [
    "# 3) Recency Matrix\n",
    "df_RFM_R = df_RFM_SUM.pivot(index='M', columns='R', values='Recency')\n",
    "df_RFM_R= df_RFM_R.reset_index().sort_values(['M'], ascending = False).set_index(['M'])\n",
    "df_RFM_R"
   ],
   "metadata": {
    "collapsed": false,
    "pycharm": {
     "name": "#%%\n",
     "is_executing": false
    }
   }
  },
  {
   "cell_type": "code",
   "execution_count": null,
   "outputs": [],
   "source": [
    "\"\"\"\n",
    "Some takeaways / quick wins with very simple sales & marketing tactics examples?\n",
    "\n",
    "There are few customers in the “Disengaged” bucket and they have an average revenue higher than the “Star” bucket. \n",
    "Since there are very few of them, it should be easy to partner with the business to understand what happened at the\n",
    "customer level. Based on the analysis, there might be a simple quick win: reactivate few of them with a phone call \n",
    "or meeting to hopefully move them back to the “Star” bucket (e.g. engaged customers).\n",
    "\n",
    "The average last order from the “Light” bucket is very old (more than 1 year vs. 60-70 days for ‘engaged’ customers). \n",
    "Launching a simple reactivation campaign with a coupon might be an initiative that could lead to some new orders and \n",
    "help some of these customers move to the “New” bucket (e.g. engaged customers).\n",
    "\n",
    "Simple Tactics Examples\n",
    "The notebook is available on Github. Thank you for reading my post if you enjoyed it, please clap. \n",
    "Feel free to contact me if you want to make simple or more complex RFM segmentations within your organization.\n",
    "\"\"\"\n",
    "\n"
   ],
   "metadata": {
    "collapsed": false,
    "pycharm": {
     "name": "#%%\n"
    }
   }
  }
 ],
 "metadata": {
  "kernelspec": {
   "display_name": "Python 3",
   "language": "python",
   "name": "python3"
  },
  "language_info": {
   "codemirror_mode": {
    "name": "ipython",
    "version": 2
   },
   "file_extension": ".py",
   "mimetype": "text/x-python",
   "name": "python",
   "nbconvert_exporter": "python",
   "pygments_lexer": "ipython2",
   "version": "2.7.6"
  },
  "pycharm": {
   "stem_cell": {
    "cell_type": "raw",
    "source": [],
    "metadata": {
     "collapsed": false
    }
   }
  }
 },
 "nbformat": 4,
 "nbformat_minor": 0
}